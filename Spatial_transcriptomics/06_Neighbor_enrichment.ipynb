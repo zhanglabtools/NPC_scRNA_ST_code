{
 "cells": [
  {
   "cell_type": "code",
   "execution_count": null,
   "id": "a9c2e6fa",
   "metadata": {},
   "outputs": [],
   "source": [
    "import numpy as np\n",
    "import pandas as pd\n",
    "import os\n",
    "import anndata as ad\n",
    "import scanpy as sc\n",
    "import squidpy as sq"
   ]
  },
  {
   "cell_type": "code",
   "execution_count": null,
   "id": "e0e61dff",
   "metadata": {},
   "outputs": [],
   "source": [
    "files = os.listdir('E:\\\\spatial interactions\\\\data_store\\\\')"
   ]
  },
  {
   "cell_type": "code",
   "execution_count": null,
   "id": "7b8c390d",
   "metadata": {},
   "outputs": [],
   "source": [
    "for file in files:\n",
    "    adata = sc.read_h5ad('E:\\\\spatial interactions\\\\data_store\\\\'+file)\n",
    "    adata = adata[~adata.obs['leiden2'].isin(['others'])]\n",
    "    adata = adata[~adata.obs['leiden2'].isin(['other'])]\n",
    "    leiden_list = list(adata.obs['leiden2'])\n",
    "    leiden_list = ['Malignant' if x == 'malignant' else x for x in leiden_list]\n",
    "    adata.obs['leiden2'] = leiden_list\n",
    "    adata.obs['leiden2'] = adata.obs['leiden2'].astype('category')\n",
    "    sq.gr.spatial_neighbors(adata)\n",
    "    sq.gr.nhood_enrichment(adata, cluster_key=\"leiden2\")\n",
    "    sq.pl.nhood_enrichment(adata, cluster_key=\"leiden2\")\n",
    "    pd.DataFrame(adata.uns['leiden2_nhood_enrichment']['zscore'], index =list(adata.obs['leiden2'].cat.categories), columns=list(adata.obs['leiden2'].cat.categories)).to_csv('./Neighbor Enrichment/'+file[0:-5]+'.csv' )"
   ]
  },
  {
   "cell_type": "code",
   "execution_count": null,
   "id": "3a9c090a",
   "metadata": {},
   "outputs": [],
   "source": []
  }
 ],
 "metadata": {
  "kernelspec": {
   "display_name": "Python 3 (ipykernel)",
   "language": "python",
   "name": "python3"
  },
  "language_info": {
   "codemirror_mode": {
    "name": "ipython",
    "version": 3
   },
   "file_extension": ".py",
   "mimetype": "text/x-python",
   "name": "python",
   "nbconvert_exporter": "python",
   "pygments_lexer": "ipython3",
   "version": "3.9.12"
  }
 },
 "nbformat": 4,
 "nbformat_minor": 5
}

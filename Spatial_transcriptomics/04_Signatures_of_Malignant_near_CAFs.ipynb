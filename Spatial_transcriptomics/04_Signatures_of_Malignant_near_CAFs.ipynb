{
 "cells": [
  {
   "cell_type": "code",
   "execution_count": null,
   "id": "96800280",
   "metadata": {},
   "outputs": [],
   "source": [
    "import pandas as pd\n",
    "import numpy as np\n",
    "import scanpy as sc\n",
    "from matplotlib.pyplot import rc_context\n",
    "import scanpy.external as sce\n",
    "import seaborn as sns\n",
    "import matplotlib.pyplot as plt\n",
    "from statannot import add_stat_annotation\n",
    "from tqdm import tqdm_notebook\n",
    "import warnings\n",
    "from scipy.stats import ranksums\n",
    "import matplotlib\n",
    "warnings.filterwarnings(\"ignore\")\n",
    "from scipy.spatial import KDTree\n",
    "import os"
   ]
  },
  {
   "cell_type": "code",
   "execution_count": null,
   "id": "59aa4436",
   "metadata": {},
   "outputs": [],
   "source": [
    "sns.__version__"
   ]
  },
  {
   "cell_type": "code",
   "execution_count": null,
   "id": "9200a94d",
   "metadata": {},
   "outputs": [],
   "source": [
    "def remove_filled_color(ax):\n",
    "    colors = []\n",
    "    for collection in ax.collections:\n",
    "        if isinstance(collection, matplotlib.collections.PolyCollection):\n",
    "            colors.append(collection.get_facecolor())\n",
    "            collection.set_edgecolor(colors[-1])\n",
    "            collection.set_facecolor('none')\n",
    "    if len(ax.lines) == 2 * len(colors):  # suppose inner=='box'\n",
    "        for lin1, lin2, color in zip(ax.lines[::2], ax.lines[1::2], colors):\n",
    "            lin1.set_color(color)\n",
    "            lin2.set_color(color)\n",
    "    for h in ax.legend_.legendHandles:\n",
    "        if isinstance(h, matplotlib.patches.Rectangle):\n",
    "            h.set_edgecolor(h.get_facecolor())\n",
    "            h.set_facecolor('none')\n",
    "            h.set_linewidth(1.5)\n",
    "    return ax"
   ]
  },
  {
   "cell_type": "code",
   "execution_count": null,
   "id": "d52b92f8",
   "metadata": {},
   "outputs": [],
   "source": [
    "list1 = []\n",
    "list2 = []\n",
    "list3 = []\n",
    "list4 = []\n",
    "file_names = os.listdir('E:\\\\spatial interactions\\\\data_store\\\\')\n",
    "for ele in file_names:\n",
    "    adata = sc.read_h5ad(r'E:\\\\spatial interactions\\\\data_store\\\\'+ele)\n",
    "    leiden_list = list(adata.obs['leiden2'])\n",
    "    leiden_list = ['malignant' if x == 'Malignant' else x for x in leiden_list]\n",
    "    adata.obs['leiden2'] = leiden_list\n",
    "    data = pd.read_excel(r'E:\\\\stemness genes\\\\pnas.1818210116.sd01.xlsx')\n",
    "    stemness_genes = list(data.iloc[:,0].dropna())\n",
    "    stemness_genes_interaction = np.intersect1d(stemness_genes, adata.var.index)\n",
    "    adata.obs['stemnness'] = adata[:,stemness_genes_interaction].X.mean(axis=1)\n",
    "    \n",
    "    spatial_coords = pd.DataFrame(adata.obsm['spatial'], index = adata.obs.index)\n",
    "    cell_labels = adata.obs['leiden2']\n",
    "    malignant_indices = cell_labels[cell_labels == 'malignant'].index\n",
    "    other_CAF_indices = cell_labels[cell_labels == 'other CAF'].index\n",
    "\n",
    "    tree = KDTree(spatial_coords)\n",
    "    nearest_neighbors = tree.query(spatial_coords.loc[malignant_indices], k=7)\n",
    "    nearest_neighbor_indices = nearest_neighbors[1][:, 1]\n",
    "    nearest_neighbor_labels = cell_labels.iloc[nearest_neighbor_indices]\n",
    "    malignant_with_other_CAF_neighbors = malignant_indices[nearest_neighbor_labels == 'other CAF']\n",
    "    \n",
    "    MCAM_CAF_indices = cell_labels[cell_labels == 'MCAM CAF'].index\n",
    "    tree = KDTree(spatial_coords)\n",
    "    nearest_neighbors = tree.query(spatial_coords.loc[malignant_indices], k=7)\n",
    "    nearest_neighbor_indices = nearest_neighbors[1][:, 1]\n",
    "    nearest_neighbor_labels = cell_labels.iloc[nearest_neighbor_indices]\n",
    "    malignant_with_MCAM_CAF_neighbors = malignant_indices[nearest_neighbor_labels == 'MCAM CAF']\n",
    "    \n",
    "    adata1 = adata[malignant_with_other_CAF_neighbors,]\n",
    "    adata2 = adata[malignant_with_MCAM_CAF_neighbors,]\n",
    "    other_malignant = list(set(malignant_indices)-set(malignant_with_other_CAF_neighbors))\n",
    "    adata3 = adata[other_malignant,]\n",
    "    other_malignant = list(set(malignant_indices)-set(malignant_with_MCAM_CAF_neighbors))\n",
    "    adata4 = adata[other_malignant,]\n",
    "    if list(adata1.obs['stemnness']):\n",
    "        list1.extend(list(adata1.obs['stemnness']))\n",
    "    if list(adata2.obs['stemnness']):\n",
    "        list2.extend(list(adata2.obs['stemnness']))\n",
    "    if list(adata3.obs['stemnness']):\n",
    "        list3.extend(list(adata3.obs['stemnness']))\n",
    "    if list(adata4.obs['stemnness']):\n",
    "        list4.extend(list(adata4.obs['stemnness']))\n",
    "    print(ele, np.mean(adata1.obs['stemnness']), np.mean(adata2.obs['stemnness']))"
   ]
  },
  {
   "cell_type": "code",
   "execution_count": null,
   "id": "225152a7",
   "metadata": {},
   "outputs": [],
   "source": [
    "print(np.mean(list1), np.mean(list2), np.mean(list3), np.mean(list4))"
   ]
  },
  {
   "cell_type": "code",
   "execution_count": null,
   "id": "dbec0b2a-9a14-46e4-bde1-7f87809e00df",
   "metadata": {},
   "outputs": [],
   "source": [
    "ranksums(list1, list3)"
   ]
  },
  {
   "cell_type": "code",
   "execution_count": null,
   "id": "4617a317-c317-46ae-8ee4-bb57196d45af",
   "metadata": {},
   "outputs": [],
   "source": [
    "ranksums(list1, list2)"
   ]
  },
  {
   "cell_type": "code",
   "execution_count": null,
   "id": "f1ab2618-d012-43b7-a2c4-ce0b6976a12d",
   "metadata": {},
   "outputs": [],
   "source": [
    "ranksums(list4, list2)"
   ]
  },
  {
   "cell_type": "code",
   "execution_count": null,
   "id": "91f4eec7-9984-4864-b592-241ee0bce1a4",
   "metadata": {},
   "outputs": [],
   "source": [
    "ranksums(list3, list2)"
   ]
  },
  {
   "cell_type": "code",
   "execution_count": null,
   "id": "fb0ce09e",
   "metadata": {},
   "outputs": [],
   "source": [
    "data_temp = pd.DataFrame({\n",
    "    \"score\": list2 + list4+list1 + list3,\n",
    "    \"type\": ['P'] * len(list2) + ['R'] * len(list4)+['P1'] * len(list1) + ['R1'] * len(list3)\n",
    "})\n",
    "data_temp[''] = 'stemness'"
   ]
  },
  {
   "cell_type": "code",
   "execution_count": null,
   "id": "b370c9a2",
   "metadata": {},
   "outputs": [],
   "source": [
    "my_pal ={'P':'#1f77b4','R':'#b1c2c9','P1':'#d62627','R1':'#bfa6a6'}\n",
    "sns.set_theme(style=\"white\",font='Arial',font_scale=1.9)\n",
    "fig, axes = plt.subplots(1,1, figsize=(2,1.4))\n",
    "ax = sns.violinplot(x=\"\", y=\"score\", hue=\"type\", data=data_temp, palette=my_pal,  saturation=1)\n",
    "ax.set(yticklabels=[])\n",
    "ax = remove_filled_color(ax)\n",
    "pairs = [('P','R')]\n",
    "ax.legend_.remove()\n",
    "ax.set_ylabel('')\n",
    "plt.yticks(rotation=0)\n",
    "ax.tick_params(axis='both', which='major', labelbottom = False, bottom=False, top = False, labeltop=False)\n",
    "ax.spines[['right', 'top']].set_visible(False)\n",
    "ax.yaxis.set_ticks_position('left')\n",
    "#ax.set_xticks([-0.2,0.2])\n",
    "#ax.xaxis.set_ticks_position('bottom')###这是在最后一行加上两个ticks\n",
    "lines, labels = fig.axes[-1].get_legend_handles_labels()    \n",
    "ax.set(xticklabels=[])\n",
    "ax.set_ylim(-0.05, 1.2)  # Adjust limits to add space\n",
    "ax.set_yticks([-0.2,0.5])\n",
    "plt.tight_layout(pad=0.08,h_pad=0.5,w_pad=1)\n",
    "plt.savefig('stemnness_near_MCAM.svg', bbox_inches=\"tight\")\n",
    "plt.show()"
   ]
  },
  {
   "cell_type": "code",
   "execution_count": null,
   "id": "e519b465",
   "metadata": {},
   "outputs": [],
   "source": []
  }
 ],
 "metadata": {
  "kernelspec": {
   "display_name": "Python 3 (ipykernel)",
   "language": "python",
   "name": "python3"
  },
  "language_info": {
   "codemirror_mode": {
    "name": "ipython",
    "version": 3
   },
   "file_extension": ".py",
   "mimetype": "text/x-python",
   "name": "python",
   "nbconvert_exporter": "python",
   "pygments_lexer": "ipython3",
   "version": "3.9.12"
  }
 },
 "nbformat": 4,
 "nbformat_minor": 5
}

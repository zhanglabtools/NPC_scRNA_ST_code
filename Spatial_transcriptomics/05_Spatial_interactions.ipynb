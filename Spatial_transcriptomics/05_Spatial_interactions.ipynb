{
 "cells": [
  {
   "cell_type": "code",
   "execution_count": null,
   "id": "b08864b4",
   "metadata": {},
   "outputs": [],
   "source": [
    "import os\n",
    "import gc\n",
    "import ot\n",
    "import pickle\n",
    "import anndata\n",
    "import scanpy as sc\n",
    "import pandas as pd\n",
    "from scipy.stats import wilcoxon\n",
    "import numpy as np\n",
    "from scipy import sparse\n",
    "from scipy.stats import rankdata\n",
    "from scipy.stats import spearmanr, pearsonr\n",
    "from scipy.spatial import distance_matrix\n",
    "import matplotlib.pyplot as plt\n",
    "\n",
    "import commot as ct"
   ]
  },
  {
   "cell_type": "code",
   "execution_count": null,
   "id": "053720a1",
   "metadata": {},
   "outputs": [],
   "source": [
    "adata = sc.read_visium(r'E:\\datasets\\space\\P01')\n",
    "adata.var_names_make_unique()\n",
    "sc.pp.normalize_total(adata, inplace=True)\n",
    "sc.pp.log1p(adata)\n",
    "adata.raw = adata\n",
    "adata_dis500 = adata.copy()\n",
    "\n",
    "sc.pp.highly_variable_genes(adata, min_mean=0.0125, max_mean=3, min_disp=0.5)\n",
    "adata = adata[:, adata.var.highly_variable]\n",
    "sc.tl.pca(adata, svd_solver='arpack')\n",
    "sc.pp.neighbors(adata, n_neighbors=10, n_pcs=40)\n",
    "sc.tl.leiden(adata, resolution=0.4)\n",
    "sc.pl.spatial(adata, color='leiden')"
   ]
  },
  {
   "cell_type": "code",
   "execution_count": null,
   "id": "4ef36d3f",
   "metadata": {},
   "outputs": [],
   "source": [
    "adata.obs['leiden'] =  adata.obs['leiden'].replace('0','malignant')\n",
    "adata.obs['leiden'] =  adata.obs['leiden'].replace('2','malignant')\n",
    "adata.obs['leiden'] =  adata.obs['leiden'].replace('1','malignant')\n",
    "adata.obs['leiden'] =  adata.obs['leiden'].replace('4','others')\n",
    "adata.obs['leiden'] =  adata.obs['leiden'].replace('3','CAF')"
   ]
  },
  {
   "cell_type": "code",
   "execution_count": null,
   "id": "d72b677e",
   "metadata": {},
   "outputs": [],
   "source": [
    "def fdr(p_vals):\n",
    "\n",
    "    ranked_p_values = rankdata(p_vals)\n",
    "    fdr = p_vals * len(p_vals) / ranked_p_values\n",
    "    fdr[fdr > 1] = 1\n",
    "\n",
    "    return fdr\n",
    "\n",
    "def MCAM_CAFs(adata):\n",
    "    barcode_list = []\n",
    "    p_value_list = []\n",
    "    adata_CAF = adata[adata.obs['leiden'].isin(['CAF'])]\n",
    "    adata_MACM_CAF_df = adata_CAF[:,'MCAM'].to_df()\n",
    "    for barcode in adata_MACM_CAF_df.index:\n",
    "        MACM_express_except_barcode = adata_MACM_CAF_df.loc[~(adata_MACM_CAF_df.index==barcode),:]\n",
    "        MACM_express = adata_CAF[barcode, 'MCAM'].X.toarray()[0][0]\n",
    "        sta, p_value = wilcoxon(np.array(MACM_express_except_barcode).flatten()-MACM_express, alternative='less')\n",
    "        p_value_list.append(p_value)\n",
    "    fdr_list = fdr(np.array(p_value_list))\n",
    "    adata_CAF_MCAM = adata_CAF[fdr_list<0.05,:]\n",
    "    MCAM_barcode = list(adata_CAF_MCAM.obs.index)\n",
    "    leiden_array = np.array(adata_CAF.obs['leiden'])\n",
    "    leiden_array[fdr_list<0.05] =  'MCAM CAF'\n",
    "    adata_CAF.obs['leiden2'] = leiden_array\n",
    "    return adata_CAF"
   ]
  },
  {
   "cell_type": "code",
   "execution_count": null,
   "id": "8e9fa795",
   "metadata": {},
   "outputs": [],
   "source": [
    "adata_dis500.obs['leiden'] = adata.obs['leiden']\n",
    "adata_CAF = MCAM_CAFs(adata_dis500)\n",
    "\n",
    "leiden_list = []\n",
    "for i in range(adata.shape[0]):\n",
    "    barcode = adata.obs.index[i]\n",
    "    if barcode in adata_CAF.obs.index:\n",
    "        ST_cluster = adata_CAF.obs.loc[barcode,'leiden2']\n",
    "    else:\n",
    "        ST_cluster = adata.obs.loc[barcode,'leiden']\n",
    "    leiden_list.append(ST_cluster)\n",
    "    \n",
    "leiden_list = ['other CAF' if item == 'CAF' else item for item in leiden_list]\n",
    "\n",
    "adata.obs['leiden2'] = leiden_list\n",
    "adata_dis500.obs['leiden2'] = leiden_list"
   ]
  },
  {
   "cell_type": "code",
   "execution_count": null,
   "id": "b2e3f426",
   "metadata": {},
   "outputs": [],
   "source": [
    "sc.pl.spatial(adata, color='leiden2')"
   ]
  },
  {
   "cell_type": "code",
   "execution_count": null,
   "id": "520a392e",
   "metadata": {},
   "outputs": [],
   "source": [
    "sc.pl.matrixplot(adata, var_names=['EPCAM','ACTA2','COL1A1','C1QB','MZB1','KLRD1','MCAM'], groupby='leiden2',standard_scale='var')"
   ]
  },
  {
   "cell_type": "code",
   "execution_count": null,
   "id": "701bd9b5",
   "metadata": {},
   "outputs": [],
   "source": [
    "df_ligrec = ct.pp.ligand_receptor_database(database='CellChat', signaling_type=None, species='human')\n",
    "df_sub = df_ligrec[df_ligrec['0'].isin(['COL4A1','COL4A2','CD47'])]\n",
    "df_sub.loc['679'] = ['CD47', 'SIRPA', 'CD47', 'Cell-Cell Contact']"
   ]
  },
  {
   "cell_type": "code",
   "execution_count": null,
   "id": "aa2f64f5",
   "metadata": {},
   "outputs": [],
   "source": [
    "ct.tl.spatial_communication(adata_dis500,\n",
    "    database_name='user_database', df_ligrec=df_sub, dis_thr=500, heteromeric=True)"
   ]
  },
  {
   "cell_type": "code",
   "execution_count": null,
   "id": "38398ebb",
   "metadata": {},
   "outputs": [],
   "source": [
    "ct.tl.communication_direction(adata_dis500, database_name='user_database', pathway_name='CD47-SIRPA', k=5)"
   ]
  },
  {
   "cell_type": "code",
   "execution_count": null,
   "id": "e29a13c8",
   "metadata": {},
   "outputs": [],
   "source": [
    "ct.tl.cluster_communication(adata_dis500, database_name='user_database', pathway_name='CD47-SIRPA', clustering='leiden2',n_permutations=1000)\n",
    "ct.tl.cluster_communication(adata_dis500, database_name='user_database', pathway_name='COL4A1-ITGA2_ITGB1', clustering='leiden2',n_permutations=1000)\n",
    "ct.tl.cluster_communication(adata_dis500, database_name='user_database', pathway_name='COL4A2-ITGA2_ITGB1', clustering='leiden2',n_permutations=1000)"
   ]
  },
  {
   "cell_type": "code",
   "execution_count": null,
   "id": "a023768e",
   "metadata": {},
   "outputs": [],
   "source": [
    "ct.tl.cluster_position(adata_dis500, clustering='leiden2')"
   ]
  },
  {
   "cell_type": "code",
   "execution_count": null,
   "id": "2af230a5",
   "metadata": {},
   "outputs": [],
   "source": [
    "adata_dis500.uns['commot_cluster-leiden2-user_database-COL4A1-ITGA2_ITGB1']['communication_pvalue']"
   ]
  },
  {
   "cell_type": "code",
   "execution_count": null,
   "id": "5bdad113",
   "metadata": {},
   "outputs": [],
   "source": []
  },
  {
   "cell_type": "code",
   "execution_count": null,
   "id": "81b275f4",
   "metadata": {},
   "outputs": [],
   "source": []
  }
 ],
 "metadata": {
  "kernelspec": {
   "display_name": "Python 3 (ipykernel)",
   "language": "python",
   "name": "python3"
  },
  "language_info": {
   "codemirror_mode": {
    "name": "ipython",
    "version": 3
   },
   "file_extension": ".py",
   "mimetype": "text/x-python",
   "name": "python",
   "nbconvert_exporter": "python",
   "pygments_lexer": "ipython3",
   "version": "3.9.12"
  }
 },
 "nbformat": 4,
 "nbformat_minor": 5
}

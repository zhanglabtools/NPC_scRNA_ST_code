{
 "cells": [
  {
   "cell_type": "code",
   "execution_count": null,
   "id": "614c7394",
   "metadata": {},
   "outputs": [],
   "source": [
    "import pandas as pd\n",
    "import numpy as np\n",
    "import scanpy as sc\n",
    "#import GraphST\n",
    "import matplotlib\n",
    "from scipy.stats import pearsonr,spearmanr\n",
    "import scipy\n",
    "from tqdm import tqdm\n",
    "import os\n",
    "from matplotlib import rcParams\n",
    "import matplotlib.pyplot as plt\n",
    "from matplotlib.collections import PatchCollection\n",
    "import warnings\n",
    "import seaborn as sns\n",
    "from matplotlib.colors import ListedColormap, LinearSegmentedColormap\n",
    "import matplotlib as mpl\n",
    "import matplotlib.pyplot as plt\n",
    "from scipy.stats import spearmanr\n",
    "import matplotlib.colors as mcolors\n",
    "warnings.filterwarnings('ignore')"
   ]
  },
  {
   "cell_type": "code",
   "execution_count": null,
   "id": "02bab183",
   "metadata": {},
   "outputs": [],
   "source": [
    "def calculate_pvalues(df):\n",
    "    dfcols = pd.DataFrame(columns=df.columns)\n",
    "    pvalues = dfcols.transpose().join(dfcols, how='outer')\n",
    "    for r in df.columns:\n",
    "        for c in df.columns:\n",
    "            tmp = df[df[r].notnull() & df[c].notnull()]\n",
    "            pvalues[r][c] = round(pearsonr(tmp[r], tmp[c])[1], 4)\n",
    "    return pvalues"
   ]
  },
  {
   "cell_type": "code",
   "execution_count": null,
   "id": "fa682218",
   "metadata": {},
   "outputs": [],
   "source": [
    "def get_Patch(a_Patch, *args, **kwargs):\n",
    "    background_color = kwargs.pop(\n",
    "        'bgc',\n",
    "        kwargs.pop('background_color', 'white')\n",
    "    )\n",
    "    alpha = kwargs.get('alpha', 1.0)\n",
    "    patches = []\n",
    "    lw = kwargs.get('lw', kwargs.get('linewidth', 0.0))\n",
    "    if alpha < 1.0 and lw:\n",
    "        color = kwargs.get('c', kwargs.get('color', None))\n",
    "        fc = kwargs.get('facecolor', kwargs.get('fc', None))\n",
    "        ec = kwargs.get('edgecolor', kwargs.get('ec', None))\n",
    "        face_kwargs = dict(kwargs)\n",
    "        face_kwargs['fc'] = fc if fc is not None else color\n",
    "        face_kwargs['lw'] = 0.0\n",
    "        p_face = a_Patch(*args, **face_kwargs)\n",
    "        patches.append(p_face)\n",
    "        wipe_kwargs = dict(kwargs)\n",
    "        wipe_kwargs['fc'] = 'none'\n",
    "        wipe_kwargs['ec'] = background_color\n",
    "        wipe_kwargs['alpha'] = 1.0\n",
    "        p_wipe = a_Patch(*args, **wipe_kwargs)\n",
    "        patches.append(p_wipe)\n",
    "        edge_kwargs = dict(kwargs)\n",
    "        edge_kwargs['fc'] = 'none'\n",
    "        edge_kwargs['ec'] = ec if ec is not None else color\n",
    "        p_edge = a_Patch(*args, **edge_kwargs)\n",
    "        patches.append(p_edge)\n",
    "    else:\n",
    "        p_simple = a_Patch(*args, **kwargs)\n",
    "        patches.append(p_simple)\n",
    "    return PatchCollection(patches, match_original=True)"
   ]
  },
  {
   "cell_type": "code",
   "execution_count": null,
   "id": "59405773",
   "metadata": {},
   "outputs": [],
   "source": [
    "corr_list = []\n",
    "corr_pvalue_list = []\n",
    "results_list = []\n",
    "for k in tqdm(range(len(sample_list))):\n",
    "    sample = sample_list[k]\n",
    "    sc_sample = scRNA_sample_list[k]\n",
    "    result = pd.read_csv('E:\\\\deconv\\\\SpaCET\\\\save\\\\'+sample+'_propMat.csv',index_col=0)\n",
    "    result = result.iloc[0:14,:].T\n",
    "    results_list.append(result)"
   ]
  },
  {
   "cell_type": "code",
   "execution_count": null,
   "id": "631fbbaf",
   "metadata": {},
   "outputs": [],
   "source": [
    "results_df = pd.concat([results_df0 for results_df0 in results_list])"
   ]
  },
  {
   "cell_type": "code",
   "execution_count": null,
   "id": "feb36c99",
   "metadata": {},
   "outputs": [],
   "source": [
    "pvalue_df[pvalue_df>0.01] = 0.15\n",
    "pvalue_df[pvalue_df<=0.01] = 0.4"
   ]
  },
  {
   "cell_type": "code",
   "execution_count": null,
   "id": "002b384e",
   "metadata": {},
   "outputs": [],
   "source": [
    "cmap = mcolors.LinearSegmentedColormap.from_list(\"n\",[\"#0f437b\",'#4695c4','#d1e5f0','#ffffff','#f9c3a8','#a71529','#a51328'])\n",
    "#cmap = matplotlib.cm.get_cmap('RdBu_r', 12) "
   ]
  },
  {
   "cell_type": "code",
   "execution_count": null,
   "id": "38d90fc9",
   "metadata": {},
   "outputs": [],
   "source": [
    "rcParams['figure.figsize'] = 6,5\n",
    "rcParams['font.family'] = 'arial'\n",
    "rcParams['font.size'] = 13\n",
    "\n",
    "N = corr_df.shape[0]\n",
    "M = corr_df.shape[1]\n",
    "ylabels = list(corr_df.index)\n",
    "xlabels = list(corr_df.columns)\n",
    "\n",
    "x, y = np.meshgrid(np.arange(M), np.arange(N))\n",
    "#s = np.random.randint(0, 180, size=(N,M))\n",
    "c = np.array(corr_df)\n",
    "\n",
    "\n",
    "fig, ax = plt.subplots(figsize=(6.3, 5))\n",
    "ec = 'black'\n",
    "lw = 15.0\n",
    "\n",
    "R = np.array(pvalue_df)\n",
    "circles = [plt.Circle((j,i), radius=r) for r, j, i in zip(R.flat, x.flat, y.flat)]\n",
    "col = PatchCollection(circles, array=c.flatten(), cmap=cmap, norm=mpl.colors.Normalize(vmin=-0.8, vmax=0.8))\n",
    "ax.add_collection(col)\n",
    "\n",
    "ax.set(xticks=np.arange(M), yticks=np.arange(N),\n",
    "       xticklabels=xlabels, yticklabels=ylabels)\n",
    "ax.set_xticks(np.arange(M+1)-0.5, minor=True)\n",
    "ax.set_yticks(np.arange(N+1)-0.5, minor=True)\n",
    "ax.grid(which='minor',)\n",
    "fig.colorbar(col)\n",
    "ax.set_xticklabels(xlabels, rotation = 285)\n",
    "plt.tight_layout()\n",
    "plt.savefig('bubblc chart.svg',bbox_inches='tight')\n",
    "plt.show()"
   ]
  },
  {
   "cell_type": "code",
   "execution_count": null,
   "id": "f559e9d7",
   "metadata": {},
   "outputs": [],
   "source": []
  }
 ],
 "metadata": {
  "kernelspec": {
   "display_name": "Python 3 (ipykernel)",
   "language": "python",
   "name": "python3"
  },
  "language_info": {
   "codemirror_mode": {
    "name": "ipython",
    "version": 3
   },
   "file_extension": ".py",
   "mimetype": "text/x-python",
   "name": "python",
   "nbconvert_exporter": "python",
   "pygments_lexer": "ipython3",
   "version": "3.9.12"
  }
 },
 "nbformat": 4,
 "nbformat_minor": 5
}

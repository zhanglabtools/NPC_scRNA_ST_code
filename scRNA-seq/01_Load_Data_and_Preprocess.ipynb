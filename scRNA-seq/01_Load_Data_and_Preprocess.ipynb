{
 "cells": [
  {
   "cell_type": "code",
   "execution_count": null,
   "id": "c149dc42-a0e0-4d9f-87fc-d206e3b7bf6f",
   "metadata": {},
   "outputs": [],
   "source": [
    "import scanpy as sc\n",
    "import numpy as np\n",
    "import matplotlib.pyplot as plt\n",
    "import pandas as pd\n",
    "import preprocess as pp\n",
    "import seaborn as sns\n",
    "import numpy as np\n",
    "import warnings\n",
    "from preprocess import merge_adatas\n",
    "import scrublet as scr\n",
    "from matplotlib.pyplot import rc_context\n",
    "import scanpy.external as sce\n",
    "import os\n",
    "warnings.filterwarnings('ignore')"
   ]
  },
  {
   "cell_type": "code",
   "execution_count": null,
   "id": "0670b2e4-b358-4cc3-a0f2-279684483d96",
   "metadata": {},
   "outputs": [],
   "source": [
    "def infer_doublets(adata, plot=True):\n",
    "    scrub = scr.Scrublet(adata.X, expected_doublet_rate=0.06)\n",
    "    doublet_scores, predicted_doublets = scrub.scrub_doublets(min_counts=2, \n",
    "                                                      min_cells=3, \n",
    "                                                      min_gene_variability_pctl=85, \n",
    "                                                      n_prin_comps=30)\n",
    "    adata.obs['doublet_scores'] = doublet_scores\n",
    "    score = 0.15\n",
    "    scrub.call_doublets(threshold=score)\n",
    "    scrub.plot_histogram()\n",
    "    if plot:\n",
    "        scrub.set_embedding('UMAP', scr.get_umap(scrub.manifold_obs_, 10, min_dist=0.3))\n",
    "        scrub.plot_embedding('UMAP', order_points=True)\n",
    "    pred_thres_doublets = doublet_scores<score\n",
    "    print('Total doublets are:', np.sum(doublet_scores>=score))\n",
    "    adata = adata[pred_thres_doublets,:]\n",
    "    return adata"
   ]
  },
  {
   "cell_type": "code",
   "execution_count": null,
   "id": "775f2cb1-a38a-4cb8-8d13-2d00cd60fd4a",
   "metadata": {},
   "outputs": [],
   "source": [
    "file_list = os.listdir('E:\\\\datasets\\\\singlecell\\\\')"
   ]
  },
  {
   "cell_type": "code",
   "execution_count": null,
   "id": "2d5b5b40-1a92-47c9-84b6-b61295480488",
   "metadata": {},
   "outputs": [],
   "source": [
    "for data_name in file_list:\n",
    "    adata = sc.read_10x_mtx('E:\\\\datasets\\\\singlecell\\\\'+data_name+'\\\\filtered_feature_bc_matrix')\n",
    "    print('data size beforfe doublets removal:', adata)\n",
    "    adata = infer_doublets(adata, plot=False)\n",
    "    plt.show()\n",
    "    sc.pp.filter_cells(adata, min_genes=200)\n",
    "    sc.pp.filter_genes(adata, min_cells=3)\n",
    "    mito_genes = adata.var_names.str.startswith('MT-')\n",
    "    adata.obs['percent_mito'] = np.sum(adata[:, mito_genes].X, axis=1).A1 / np.sum(adata.X, axis=1).A1\n",
    "    \n",
    "    sns.histplot(adata.obs['percent_mito'])\n",
    "    plt.xlim(0, 0.3)\n",
    "    plt.savefig('./figures_mito/'+data_name+'percent_mito.png')\n",
    "    plt.show()\n",
    "    \n",
    "    sns.histplot(adata.obs['n_genes'])\n",
    "    plt.xlim(0, 6000)\n",
    "    plt.savefig('./figures_n_genes/'+data_name+'n_genes.png')\n",
    "    plt.show()\n",
    "    \n",
    "    adata = preprocessing(adata)\n",
    "    sc.pp.normalize_total(adata)\n",
    "    sc.pp.log1p(adata)\n",
    "    adata.raw = adata\n",
    "    \n",
    "    sc.pp.highly_variable_genes(adata, n_top_genes=3000)\n",
    "    adata = adata[:, adata.var.highly_variable]\n",
    "    sc.pp.scale(adata)\n",
    "    \n",
    "    sc.tl.pca(adata, svd_solver='arpack')\n",
    "    sc.pp.neighbors(adata)\n",
    "    \n",
    "    sc.tl.leiden(adata, resolution=1.5)\n",
    "    sc.tl.umap(adata)\n",
    "    \n",
    "    sc.pl.umap(adata, color=['leiden', 'doublet_scores'], wspace=0.3, ncols=2, save =data_name+ 'umap.png')\n",
    "    sc.pl.matrixplot(adata, var_names={'Treg':['CTLA4', 'FOXP3','IL2RA', 'IL1R2','RTKN2','LAIR2',],\n",
    "                                  'CD4T':['IL7R','CD40LG'],\n",
    "                                  'CD8T':[ 'CD8A', 'CD8B'],\n",
    "                                  'Cycling':[ 'RRM2','HMGN2'],\n",
    "                                  'Neutrophil':['CSF3R','FCGR3B'],\n",
    "                                  'Myeloid':['C1QB', 'LYZ', 'AIF1', 'RNASE1'],\n",
    "                                  'Endothelial':[ 'PECAM1', 'TM4SF1'],\n",
    "                                  'NK':['GNLY', 'KLRD1', 'KLRF1', 'GZMB'],\n",
    "                                  'B':['MS4A1', 'BANK1', 'CD79A', 'TNFRSF13C', 'BCL11A','PAX5'],\n",
    "                                  'Epithelial':['KRT18', 'KRT19', 'EPCAM', 'SOX4'],\n",
    "                                  'DC3':['LAMP3', 'CCR7', 'CCL19', 'CCL22'],\n",
    "                                  'pDC':['TCF4', 'TCL1A'],\n",
    "                                  'Plasmacyte':['MZB1', 'IGLL5'],\n",
    "                                  'Fibroblast':[ 'COL1A1', 'LUM'],\n",
    "                                  'Mast':['TPSAB1','KIT']}, \n",
    "                 groupby='leiden', standard_scale='var', cmap='RdBu_r')\n",
    "    #annot each leiden clusters based on markers\n",
    "    adata.write(data_name+'.h5ad')"
   ]
  },
  {
   "cell_type": "code",
   "execution_count": null,
   "id": "d6a45485-76e4-4491-96ef-88dba44fe69f",
   "metadata": {},
   "outputs": [],
   "source": []
  }
 ],
 "metadata": {
  "kernelspec": {
   "display_name": "Python 3 (ipykernel)",
   "language": "python",
   "name": "python3"
  },
  "language_info": {
   "codemirror_mode": {
    "name": "ipython",
    "version": 3
   },
   "file_extension": ".py",
   "mimetype": "text/x-python",
   "name": "python",
   "nbconvert_exporter": "python",
   "pygments_lexer": "ipython3",
   "version": "3.9.12"
  }
 },
 "nbformat": 4,
 "nbformat_minor": 5
}

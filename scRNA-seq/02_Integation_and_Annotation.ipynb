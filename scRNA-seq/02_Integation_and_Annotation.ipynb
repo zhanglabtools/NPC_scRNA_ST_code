{
 "cells": [
  {
   "cell_type": "code",
   "execution_count": null,
   "id": "c89ffb61-c9c5-4f1e-b001-0f99ac79a7ae",
   "metadata": {},
   "outputs": [],
   "source": [
    "import pandas as pd\n",
    "import numpy as np\n",
    "import scanpy as sc\n",
    "from matplotlib.pyplot import rc_context\n",
    "import scanpy.external as sce\n",
    "import seaborn as sns\n",
    "from scipy.stats import ranksums\n",
    "from statannot import add_stat_annotation\n",
    "from tqdm import tqdm_notebook\n",
    "import warnings\n",
    "warnings.filterwarnings(\"ignore\")"
   ]
  },
  {
   "cell_type": "code",
   "execution_count": null,
   "id": "bfe3abe9-dd44-4d32-b84e-4e16958b6a56",
   "metadata": {},
   "outputs": [],
   "source": [
    "adata = sc.read_h5ad(r'E:\\DataStore\\adata_total.h5ad')\n",
    "adata = adata[~adata.obs['celltype'].isin(['Epithelial'])]\n",
    "sc.pp.filter_genes(adata, min_cells=10)"
   ]
  },
  {
   "cell_type": "code",
   "execution_count": null,
   "id": "be0c674f-473b-4917-8b39-1be60a45da02",
   "metadata": {},
   "outputs": [],
   "source": [
    "sc.pp.normalize_total(adata)\n",
    "sc.pp.log1p(adata)\n",
    "adata.raw = adata"
   ]
  },
  {
   "cell_type": "code",
   "execution_count": null,
   "id": "1cd2a26b-b28a-49ba-a6b1-f03b088fc5fd",
   "metadata": {},
   "outputs": [],
   "source": [
    "sc.pp.highly_variable_genes(adata, batch_key='PID', n_top_genes=3000)\n",
    "adata = adata[:, adata.var.highly_variable]"
   ]
  },
  {
   "cell_type": "code",
   "execution_count": null,
   "id": "6f4fc4ae-1ae1-42f8-89f5-1ea7532f8751",
   "metadata": {},
   "outputs": [],
   "source": [
    "sc.pp.scale(adata)\n",
    "sc.tl.pca(adata)\n",
    "sce.pp.harmony_integrate(adata, 'PID', max_iter_harmony=50)\n",
    "adata.obsm['X_pca'] = np.array(adata.obsm['X_pca_harmony'])\n",
    "sc.pp.neighbors(adata)\n",
    "sc.tl.leiden(adata, resolution=1.5)\n",
    "sc.tl.umap(adata)"
   ]
  },
  {
   "cell_type": "code",
   "execution_count": null,
   "id": "84b7f350-4ead-4e5c-a11b-cd57a07ca6ef",
   "metadata": {},
   "outputs": [],
   "source": [
    "sc.pl.matrixplot(adata, var_names={'Treg':['CTLA4', 'FOXP3','IL2RA', 'IL1R2','RTKN2','LAIR2',],\n",
    "                              'CD4T':['IL7R','CD40LG'],\n",
    "                              'CD8T':[ 'CD8A', 'CD8B'],\n",
    "                              'Cycling':[ 'RRM2','HMGN2'],\n",
    "                              'Neutrophil':['CSF3R','FCGR3B'],\n",
    "                              'Myeloid':['C1QB', 'LYZ', 'AIF1', 'RNASE1'],\n",
    "                              'Endothelial':[ 'PECAM1',  'TM4SF1',],\n",
    "                              'NK':['GNLY', 'KLRD1', 'KLRF1', 'GZMB'],\n",
    "                              'B':['MS4A1', 'BANK1', 'CD79A', 'TNFRSF13C', 'BCL11A','PAX5'],\n",
    "                              #'Epithelial':['KRT18', 'KRT19', 'EPCAM', 'SOX4'],\n",
    "                              'DC3':['LAMP3', 'CCR7', 'CCL19', 'CCL22'],\n",
    "                              'pDC':['TCF4', 'TCL1A'],\n",
    "                              'Plasmacyte':['MZB1', 'IGLL5'],\n",
    "                              'Fibroblast':[ 'COL1A1', 'LUM'],\n",
    "                              'Mast':['TPSAB1','KIT']}, \n",
    "             groupby='leiden', standard_scale='var', cmap='RdBu_r')\n",
    "#Refine the annotation based on markers."
   ]
  },
  {
   "cell_type": "code",
   "execution_count": null,
   "id": "2c651ef0-14f9-4cae-af21-1e2b4b5718e3",
   "metadata": {},
   "outputs": [],
   "source": [
    "sc.set_figure_params(scanpy=True, fontsize=14)\n",
    "with rc_context({'figure.figsize': (7, 6)}):\n",
    "    sc.pl.umap(adata, color=['celltype'],s=1.2, save='total_immune_cell.svg')"
   ]
  },
  {
   "cell_type": "code",
   "execution_count": null,
   "id": "bed212c5-5e8a-4605-9063-0b4a9c6ee690",
   "metadata": {},
   "outputs": [],
   "source": [
    "sc.set_figure_params(scanpy=True, fontsize=14, figsize=(6, 4))\n",
    "sc.pl.umap(adata, color=['type'], \n",
    "          save='annot_type_PR.svg',\n",
    "          palette={\n",
    "              'PT':'#068eb7',\n",
    "              'RT':'#a80c11',\n",
    "          })"
   ]
  },
  {
   "cell_type": "code",
   "execution_count": null,
   "id": "d7c2adb0-3919-4ad9-8720-0b3bff936545",
   "metadata": {},
   "outputs": [],
   "source": []
  }
 ],
 "metadata": {
  "kernelspec": {
   "display_name": "Python 3 (ipykernel)",
   "language": "python",
   "name": "python3"
  },
  "language_info": {
   "codemirror_mode": {
    "name": "ipython",
    "version": 3
   },
   "file_extension": ".py",
   "mimetype": "text/x-python",
   "name": "python",
   "nbconvert_exporter": "python",
   "pygments_lexer": "ipython3",
   "version": "3.9.12"
  }
 },
 "nbformat": 4,
 "nbformat_minor": 5
}

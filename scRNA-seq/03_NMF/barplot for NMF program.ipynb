{
 "cells": [
  {
   "cell_type": "code",
   "execution_count": 1,
   "id": "0e4478ac",
   "metadata": {},
   "outputs": [],
   "source": [
    "import numpy as np\n",
    "import pandas as pd\n",
    "import seaborn as sns\n",
    "import matplotlib.pyplot as plt\n",
    "import matplotlib"
   ]
  },
  {
   "cell_type": "code",
   "execution_count": 2,
   "id": "efac9451",
   "metadata": {},
   "outputs": [],
   "source": [
    "matplotlib.rcParams['mathtext.fontset'] = 'custom'\n",
    "matplotlib.rcParams['font.family']='Arial'\n",
    "matplotlib.rcParams['mathtext.rm'] = 'Arial'\n",
    "\n",
    "matplotlib.rcParams['mathtext.it'] = 'Arial'"
   ]
  },
  {
   "cell_type": "code",
   "execution_count": 3,
   "id": "11d3f8c7",
   "metadata": {},
   "outputs": [],
   "source": [
    "data = pd.read_excel('program.xlsx', sheet_name=3)"
   ]
  },
  {
   "cell_type": "code",
   "execution_count": 4,
   "id": "6ff1acf9",
   "metadata": {},
   "outputs": [
    {
     "data": {
      "image/png": "[encoded data removed]",
      "text/plain": [
       "<Figure size 432x288 with 1 Axes>"
      ]
     },
     "metadata": {
      "needs_background": "light"
     },
     "output_type": "display_data"
    }
   ],
   "source": [
    "P = [3,5,2,3,1]\n",
    "R = [6,9,7,3,4]\n",
    "Program = [1,2,3,4,5]\n",
    "ax = plt.figure(figsize=(6,4))\n",
    "plt.bar(Program, P, align=\"center\", color=\"#5f82b5\", tick_label=[\"1\", \"2\", \"3\", \"4\", \"5\"], label=\"P\")\n",
    "plt.bar(Program, R, align=\"center\", bottom=P, color=\"#d76364\", label=\"R\")\n",
    "plt.ylabel(\"Count\", fontsize=18, family='Arial')\n",
    "plt.xlabel(\"Program\", fontsize=18, family='Arial')\n",
    "plt.xticks(fontsize=18)\n",
    "plt.yticks(fontsize=18)\n",
    "plt.savefig('Barplot_NMF_program.svg', bbox_inches='tight')\n",
    "plt.show()"
   ]
  },
  {
   "cell_type": "code",
   "execution_count": 5,
   "id": "51e95114",
   "metadata": {},
   "outputs": [],
   "source": [
    "def list_plus(list1, list2):\n",
    "    list3 = []\n",
    "    for i in range(len(list2)):\n",
    "        list3.append(list1[i] + list2[i])\n",
    "    return list3"
   ]
  },
  {
   "cell_type": "code",
   "execution_count": 6,
   "id": "0e10fd44",
   "metadata": {},
   "outputs": [],
   "source": [
    "P1 = [1/9,0,0,0,0]\n",
    "P3 = [1/9,1/14,0,1/6,0]\n",
    "P5 = [1/9,1/14,1/9,1/6,1/5]\n",
    "P6 = [0,1/14,0,1/6,0]\n",
    "P7 = [0,1/14,0,0,0]\n",
    "P9 = [0,1/14,1/9,0,0]\n",
    "R3 = [1/9,1/14,1/9,0,1/5]\n",
    "R6 = [1/9,1/14,1/9,0,0]\n",
    "R7 = [1/9,1/14,1/9,1/6,1/5]\n",
    "R8 = [0,1/14,0,0,0]\n",
    "R9 = [0,1/14,0,0,0]\n",
    "R10 = [1/9,1/14,1/9,1/6,1/5]\n",
    "R12 = [1/9,1/14,1/9,1/6,0]\n",
    "R13 = [1/9,1/14,1/9,0,1/5]\n",
    "R14 = [0,1/14,1/9,0,0]\n",
    "sum_total = [9,14,9,6,5]\n",
    "sum_program =[P1, P3, P5, P6, P7, P9, R3, R6, R7, R8, R9, R10, R12, R13, R14]"
   ]
  },
  {
   "cell_type": "code",
   "execution_count": 7,
   "id": "08d3db88",
   "metadata": {},
   "outputs": [
    {
     "data": {
      "image/png": "[encoded data removed]",
      "text/plain": [
       "<Figure size 432x288 with 1 Axes>"
      ]
     },
     "metadata": {
      "needs_background": "light"
     },
     "output_type": "display_data"
    }
   ],
   "source": [
    "Program = [1,2,3,4,5]\n",
    "ax = plt.figure(figsize=(6,4))\n",
    "plt.bar(Program, P1, align=\"center\", color=\"#068eb7\", tick_label=[\"1\", \"2\", \"3\", \"4\", \"5\"], label=\"P1\")\n",
    "plt.bar(Program, P3, align=\"center\", bottom=P1, color=\"#a80c11\", label=\"P3\")\n",
    "list3 = list_plus(P1, P3)\n",
    "plt.bar(Program, P5, align=\"center\", bottom=list3, color='#695acc', label=\"P5\")\n",
    "list4 = list_plus(list3, P5)\n",
    "plt.bar(Program, P6, align=\"center\", bottom=list4, color='#d1b38c', label=\"P6\")\n",
    "list5 = list_plus(list4, P6)\n",
    "plt.bar(Program, P7, align=\"center\", bottom=list5, color='#af3061', label=\"P7\")\n",
    "list6 = list_plus(list5, P7)\n",
    "plt.bar(Program, P9, align=\"center\", bottom=list6, color='#d1691e', label=\"P9\")\n",
    "list7 = list_plus(list6, P9)\n",
    "plt.bar(Program, R3, align=\"center\", bottom=list7, color='#8ebb90', label=\"R3\")\n",
    "list8 = list_plus(list7, R3)\n",
    "plt.bar(Program, R6, align=\"center\", bottom=list8, color='#7d107f', label=\"R6\")\n",
    "list9 = list_plus(list8, R6)\n",
    "plt.bar(Program, R7, align=\"center\", bottom=list9, color='#9bcc31', label=\"R7\")\n",
    "list10 = list_plus(list9, R7)\n",
    "plt.bar(Program, R8, align=\"center\", bottom=list10, color='green', label=\"R8\")\n",
    "list11 = list_plus(list10, R8)\n",
    "plt.bar(Program, R9, align=\"center\", bottom=list11, color='#808000', label=\"R9\")\n",
    "list12 = list_plus(list11, R9)\n",
    "plt.bar(Program, R10, align=\"center\", bottom=list12, color='#ffa402', label=\"R10\")\n",
    "list13 = list_plus(list12, R10)\n",
    "plt.bar(Program, R12, align=\"center\", bottom=list13, color='#00198b', label=\"R12\")\n",
    "list14 = list_plus(list13, R12)\n",
    "plt.bar(Program, R13, align=\"center\", bottom=list14, color='#2f4f4f', label=\"R13\")\n",
    "list15 = list_plus(list14, R13)\n",
    "plt.bar(Program, R14, align=\"center\", bottom=list15, color='#d2d2d2', label=\"R14\")\n",
    "plt.ylabel(\"Fraction\", fontsize=18, family='Arial')\n",
    "plt.xlabel(\"Program\", fontsize=18, family='Arial')\n",
    "plt.xticks(fontsize=18)\n",
    "plt.yticks(fontsize=18)\n",
    "plt.legend(loc='upper right',bbox_to_anchor=(1.26,1.12),fontsize=13)\n",
    "plt.savefig('Barplot_NMF_patient_program.svg', bbox_inches='tight')\n",
    "plt.show()"
   ]
  },
  {
   "cell_type": "code",
   "execution_count": null,
   "id": "cde23c14",
   "metadata": {},
   "outputs": [],
   "source": []
  }
 ],
 "metadata": {
  "kernelspec": {
   "display_name": "Python 3 (ipykernel)",
   "language": "python",
   "name": "python3"
  },
  "language_info": {
   "codemirror_mode": {
    "name": "ipython",
    "version": 3
   },
   "file_extension": ".py",
   "mimetype": "text/x-python",
   "name": "python",
   "nbconvert_exporter": "python",
   "pygments_lexer": "ipython3",
   "version": "3.9.12"
  }
 },
 "nbformat": 4,
 "nbformat_minor": 5
}
